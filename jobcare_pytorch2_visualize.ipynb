{
 "cells": [
  {
   "cell_type": "code",
   "execution_count": 8,
   "metadata": {},
   "outputs": [],
   "source": [
    "#데이터 불러오기\n",
    "train = pd.read_csv('C:\\\\Users\\\\user\\\\Desktop\\\\computing\\\\outside\\\\dacon\\\\jobcare_recommend\\\\JobCare_data\\\\train.csv')\n",
    "test = pd.read_csv('C:\\\\Users\\\\user\\\\Desktop\\\\computing\\\\outside\\\\dacon\\\\jobcare_recommend\\\\JobCare_data\\\\test.csv')\n",
    "d_code=pd.read_csv('C:\\\\Users\\\\user\\\\Desktop\\\\computing\\\\outside\\\\dacon\\\\jobcare_recommend\\\\Jobcare_data\\\\속성_D_코드.csv',index_col=0).T.to_dict()\n",
    "h_code=pd.read_csv('C:\\\\Users\\\\user\\\\Desktop\\\\computing\\\\outside\\\\dacon\\\\jobcare_recommend\\\\Jobcare_data\\\\속성_H_코드.csv',index_col=0).T.to_dict()\n",
    "l_code=pd.read_csv('C:\\\\Users\\\\user\\\\Desktop\\\\computing\\\\outside\\\\dacon\\\\jobcare_recommend\\\\Jobcare_data\\\\속성_L_코드.csv',index_col=0).T.to_dict()"
   ]
  },
  {
   "cell_type": "code",
   "execution_count": 5,
   "metadata": {},
   "outputs": [
    {
     "name": "stdout",
     "output_type": "stream",
     "text": [
      "   id  d_l_match_yn  d_m_match_yn  d_s_match_yn  h_l_match_yn  h_m_match_yn  \\\n",
      "0   0          True          True          True         False         False   \n",
      "1   1         False         False         False          True          True   \n",
      "2   2         False         False         False          True         False   \n",
      "3   3         False         False         False          True         False   \n",
      "4   4          True          True          True         False         False   \n",
      "\n",
      "   h_s_match_yn  person_attribute_a  person_attribute_a_1  person_attribute_b  \n",
      "0         False                   1                     4                   3  \n",
      "1         False                   1                     3                   4  \n",
      "2         False                   2                     0                   3  \n",
      "3         False                   2                     0                   2  \n",
      "4         False                   1                     3                   4  \n",
      "   person_prefer_c  person_prefer_d_1  person_prefer_d_2  person_prefer_d_3  \\\n",
      "0                5                275                370                369   \n",
      "1                1                114                181                175   \n",
      "2                5                464                175                452   \n",
      "3                5                703                705                704   \n",
      "4                5                275                370                369   \n",
      "\n",
      "   person_prefer_e  person_prefer_f  person_prefer_g  person_prefer_h_1  \\\n",
      "0                8                1                1                  4   \n",
      "1                4                1                1                131   \n",
      "2                3                1                1                 54   \n",
      "3                3                1                1                 72   \n",
      "4                4                1                1                214   \n",
      "\n",
      "   person_prefer_h_2  person_prefer_h_3  \n",
      "0                 95                 59  \n",
      "1                101                 96  \n",
      "2                263                 56  \n",
      "3                227                  2  \n",
      "4                210                209  \n",
      "   contents_attribute_i  contents_attribute_a  contents_attribute_j_1  \\\n",
      "0                     3                     3                      10   \n",
      "1                     1                     3                       5   \n",
      "2                     3                     1                      10   \n",
      "3                     1                     3                       5   \n",
      "4                     1                     1                      10   \n",
      "\n",
      "   contents_attribute_j  contents_attribute_c  contents_attribute_k  \\\n",
      "0                     2                     1                     2   \n",
      "1                     1                     1                     2   \n",
      "2                     2                     1                     1   \n",
      "3                     1                     1                     2   \n",
      "4                     2                     1                     2   \n",
      "\n",
      "   contents_attribute_l  contents_attribute_d  contents_attribute_m  \\\n",
      "0                  1608                   275                     1   \n",
      "1                  1608                   275                     1   \n",
      "2                  1600                    94                     1   \n",
      "3                  1608                   275                     5   \n",
      "4                  1608                   275                     1   \n",
      "\n",
      "   contents_attribute_e  \n",
      "0                     4  \n",
      "1                     4  \n",
      "2                     4  \n",
      "3                     3  \n",
      "4                     4  \n",
      "   contents_attribute_h  person_rn  contents_rn     contents_open_dt  target\n",
      "0                   139     618822       354805  2020-01-17 12:09:36       1\n",
      "1                   133     571659       346213  2020-06-18 17:48:52       0\n",
      "2                    53     399816       206408  2020-07-08 20:00:10       0\n",
      "3                    74     827967       572323  2020-01-13 18:09:34       0\n",
      "4                    74     831614       573899  2020-03-09 20:39:22       0\n"
     ]
    }
   ],
   "source": [
    "print(train.iloc[0:5,0:10])\n",
    "print(train.iloc[0:5,10:20])\n",
    "print(train.iloc[0:5,20:30])\n",
    "print(train.iloc[0:5,30:40])\n"
   ]
  },
  {
   "cell_type": "code",
   "execution_count": 8,
   "metadata": {},
   "outputs": [
    {
     "name": "stdout",
     "output_type": "stream",
     "text": [
      "      속성 D 코드  속성 D 세분류코드  속성 D 소분류코드  속성 D 중분류코드  속성 D 대분류코드\n",
      "1109     1254        1254        1254        1235        1235\n",
      "1110     1255        1254        1254        1235        1235\n",
      "1111     1256        1254        1254        1235        1235\n",
      "1112     1257        1254        1254        1235        1235\n",
      "1113     1258        1258        1258        1258        1258\n",
      "Index(['속성 D 코드', '속성 D 세분류코드', '속성 D 소분류코드', '속성 D 중분류코드', '속성 D 대분류코드'], dtype='object')\n"
     ]
    }
   ],
   "source": [
    "d_code=pd.read_csv('C:\\\\Users\\\\user\\\\Desktop\\\\computing\\\\outside\\\\dacon\\\\jobcare_recommend\\\\Jobcare_data\\\\속성_D_코드.csv')\n",
    "d_code2=pd.read_csv('C:\\\\Users\\\\user\\\\Desktop\\\\computing\\\\outside\\\\dacon\\\\jobcare_recommend\\\\Jobcare_data2\\\\속성_D_코드.csv')\n",
    "d_code3=pd.read_csv('C:\\\\Users\\\\user\\\\Desktop\\\\computing\\\\outside\\\\dacon\\\\jobcare_recommend\\\\Jobcare_data2\\\\속성_D_코드2.csv')\n",
    "print(d_code2.tail())\n",
    "print(d_code3.columns)"
   ]
  },
  {
   "cell_type": "code",
   "execution_count": 7,
   "metadata": {},
   "outputs": [],
   "source": [
    "#데이터 재가공\n",
    "def add_code(df, d_code, h_code, l_code):\n",
    "    df = df.copy()   \n",
    "\n",
    "    # D Code\n",
    "    df['person_prefer_d_1_n'] = df['person_prefer_d_1'].apply(lambda x: d_code[x]['속성 D 세분류코드'])\n",
    "    df['person_prefer_d_1_s'] = df['person_prefer_d_1'].apply(lambda x: d_code[x]['속성 D 소분류코드'])\n",
    "    df['person_prefer_d_1_m'] = df['person_prefer_d_1'].apply(lambda x: d_code[x]['속성 D 중분류코드'])\n",
    "    df['person_prefer_d_1_l'] = df['person_prefer_d_1'].apply(lambda x: d_code[x]['속성 D 대분류코드'])\n",
    "\n",
    "    df['person_prefer_d_2_n'] = df['person_prefer_d_2'].apply(lambda x: d_code[x]['속성 D 세분류코드'])\n",
    "    df['person_prefer_d_2_s'] = df['person_prefer_d_2'].apply(lambda x: d_code[x]['속성 D 소분류코드'])\n",
    "    df['person_prefer_d_2_m'] = df['person_prefer_d_2'].apply(lambda x: d_code[x]['속성 D 중분류코드'])\n",
    "    df['person_prefer_d_2_l'] = df['person_prefer_d_2'].apply(lambda x: d_code[x]['속성 D 대분류코드'])\n",
    "\n",
    "    df['person_prefer_d_3_n'] = df['person_prefer_d_3'].apply(lambda x: d_code[x]['속성 D 세분류코드'])\n",
    "    df['person_prefer_d_3_s'] = df['person_prefer_d_3'].apply(lambda x: d_code[x]['속성 D 소분류코드'])\n",
    "    df['person_prefer_d_3_m'] = df['person_prefer_d_3'].apply(lambda x: d_code[x]['속성 D 중분류코드'])\n",
    "    df['person_prefer_d_3_l'] = df['person_prefer_d_3'].apply(lambda x: d_code[x]['속성 D 대분류코드'])\n",
    "\n",
    "    df['contents_attribute_d_n'] = df['contents_attribute_d'].apply(lambda x: d_code[x]['속성 D 세분류코드'])\n",
    "    df['contents_attribute_d_s'] = df['contents_attribute_d'].apply(lambda x: d_code[x]['속성 D 소분류코드'])\n",
    "    df['contents_attribute_d_m'] = df['contents_attribute_d'].apply(lambda x: d_code[x]['속성 D 중분류코드'])\n",
    "    df['contents_attribute_d_l'] = df['contents_attribute_d'].apply(lambda x: d_code[x]['속성 D 대분류코드'])\n",
    "\n",
    "    # H Code\n",
    "    df['person_prefer_h_1_m'] = df['person_prefer_h_1'].apply(lambda x: h_code[x]['속성 H 중분류코드'])\n",
    "    df['person_prefer_h_2_m'] = df['person_prefer_h_2'].apply(lambda x: h_code[x]['속성 H 중분류코드'])\n",
    "    df['person_prefer_h_3_m'] = df['person_prefer_h_3'].apply(lambda x: h_code[x]['속성 H 중분류코드'])\n",
    "    df['contents_attribute_h_m'] = df['contents_attribute_h'].apply(lambda x: h_code[x]['속성 H 중분류코드'])\n",
    "\n",
    "    df['person_prefer_h_1_l'] = df['person_prefer_h_1'].apply(lambda x: h_code[x]['속성 H 대분류코드'])\n",
    "    df['person_prefer_h_2_l'] = df['person_prefer_h_2'].apply(lambda x: h_code[x]['속성 H 대분류코드'])\n",
    "    df['person_prefer_h_3_l'] = df['person_prefer_h_3'].apply(lambda x: h_code[x]['속성 H 대분류코드'])\n",
    "    df['contents_attribute_h_l'] = df['contents_attribute_h'].apply(lambda x: h_code[x]['속성 H 대분류코드'])\n",
    "\n",
    "    # L Code\n",
    "    df['contents_attribute_l_n'] = df['contents_attribute_l'].apply(lambda x: l_code[x]['속성 L 세분류코드'])\n",
    "    df['contents_attribute_l_s'] = df['contents_attribute_l'].apply(lambda x: l_code[x]['속성 L 소분류코드'])\n",
    "    df['contents_attribute_l_m'] = df['contents_attribute_l'].apply(lambda x: l_code[x]['속성 L 중분류코드'])\n",
    "    df['contents_attribute_l_l'] = df['contents_attribute_l'].apply(lambda x: l_code[x]['속성 L 대분류코드'])\n",
    "    \n",
    "    return df\n",
    "\n",
    "\n",
    "train = add_code(train, d_code, h_code, l_code)\n",
    "test = add_code(test, d_code, h_code, l_code)"
   ]
  },
  {
   "cell_type": "code",
   "execution_count": 8,
   "metadata": {},
   "outputs": [],
   "source": [
    "train = train.drop(['id', 'contents_open_dt','person_rn', 'contents_rn',\n",
    "'person_prefer_d_1','person_prefer_d_2','person_prefer_d_3',\n",
    "'contents_attribute_d','person_prefer_h_1','person_prefer_h_2','person_prefer_h_3','contents_attribute_h','contents_attribute_l'], axis=1) \n",
    "\n",
    "\n",
    "test = test.drop(['id', 'contents_open_dt','person_rn', 'contents_rn',\n",
    "'person_prefer_d_1','person_prefer_d_2','person_prefer_d_3',\n",
    "'contents_attribute_d','person_prefer_h_1','person_prefer_h_2','person_prefer_h_3','contents_attribute_h','contents_attribute_l'], axis=1)\n",
    "\n",
    "# print(train.head())\n",
    "train['d_l_match_yn']=train['d_l_match_yn'].replace([True,False],[1,0])\n",
    "train['d_m_match_yn']=train['d_m_match_yn'].replace([True,False],[1,0])\n",
    "train['d_s_match_yn']=train['d_s_match_yn'].replace([True,False],[1,0])\n",
    "train['h_l_match_yn']=train['h_l_match_yn'].replace([True,False],[1,0])\n",
    "train['h_m_match_yn']=train['h_m_match_yn'].replace([True,False],[1,0])\n",
    "train['h_s_match_yn']=train['h_s_match_yn'].replace([True,False],[1,0])\n",
    "\n",
    "test['d_l_match_yn']=test['d_l_match_yn'].replace([True,False],[1,0])\n",
    "test['d_m_match_yn']=test['d_m_match_yn'].replace([True,False],[1,0])\n",
    "test['d_s_match_yn']=test['d_s_match_yn'].replace([True,False],[1,0])\n",
    "test['h_l_match_yn']=test['h_l_match_yn'].replace([True,False],[1,0])\n",
    "test['h_m_match_yn']=test['h_m_match_yn'].replace([True,False],[1,0])\n",
    "test['h_s_match_yn']=test['h_s_match_yn'].replace([True,False],[1,0])"
   ]
  },
  {
   "cell_type": "code",
   "execution_count": 9,
   "metadata": {},
   "outputs": [
    {
     "data": {
      "text/plain": [
       "Index(['d_l_match_yn', 'd_m_match_yn', 'd_s_match_yn', 'h_l_match_yn',\n",
       "       'h_m_match_yn', 'h_s_match_yn', 'person_attribute_a',\n",
       "       'person_attribute_a_1', 'person_attribute_b', 'person_prefer_c',\n",
       "       'person_prefer_e', 'person_prefer_f', 'person_prefer_g',\n",
       "       'contents_attribute_i', 'contents_attribute_a',\n",
       "       'contents_attribute_j_1', 'contents_attribute_j',\n",
       "       'contents_attribute_c', 'contents_attribute_k', 'contents_attribute_m',\n",
       "       'contents_attribute_e', 'target', 'person_prefer_d_1_n',\n",
       "       'person_prefer_d_1_s', 'person_prefer_d_1_m', 'person_prefer_d_1_l',\n",
       "       'person_prefer_d_2_n', 'person_prefer_d_2_s', 'person_prefer_d_2_m',\n",
       "       'person_prefer_d_2_l', 'person_prefer_d_3_n', 'person_prefer_d_3_s',\n",
       "       'person_prefer_d_3_m', 'person_prefer_d_3_l', 'contents_attribute_d_n',\n",
       "       'contents_attribute_d_s', 'contents_attribute_d_m',\n",
       "       'contents_attribute_d_l', 'person_prefer_h_1_m', 'person_prefer_h_2_m',\n",
       "       'person_prefer_h_3_m', 'contents_attribute_h_m', 'person_prefer_h_1_l',\n",
       "       'person_prefer_h_2_l', 'person_prefer_h_3_l', 'contents_attribute_h_l',\n",
       "       'contents_attribute_l_n', 'contents_attribute_l_s',\n",
       "       'contents_attribute_l_m', 'contents_attribute_l_l'],\n",
       "      dtype='object')"
      ]
     },
     "execution_count": 9,
     "metadata": {},
     "output_type": "execute_result"
    }
   ],
   "source": [
    "train.columns"
   ]
  },
  {
   "cell_type": "code",
   "execution_count": 11,
   "metadata": {},
   "outputs": [],
   "source": [
    "#컬럼 순서 변경\n",
    "train.columns\n",
    "train=train[['d_l_match_yn', 'd_m_match_yn', 'd_s_match_yn', 'h_l_match_yn',\n",
    "       'h_m_match_yn', 'h_s_match_yn', 'person_attribute_a',\n",
    "       'person_attribute_a_1', 'person_attribute_b', 'person_prefer_c',\n",
    "       'person_prefer_e', 'person_prefer_f', 'person_prefer_g',\n",
    "       'contents_attribute_i', 'contents_attribute_a',\n",
    "       'contents_attribute_j_1', 'contents_attribute_j',\n",
    "       'contents_attribute_c', 'contents_attribute_k', 'contents_attribute_m',\n",
    "       'contents_attribute_e', 'person_prefer_d_1_n',\n",
    "       'person_prefer_d_1_s', 'person_prefer_d_1_m', 'person_prefer_d_1_l',\n",
    "       'person_prefer_d_2_n', 'person_prefer_d_2_s', 'person_prefer_d_2_m',\n",
    "       'person_prefer_d_2_l', 'person_prefer_d_3_n', 'person_prefer_d_3_s',\n",
    "       'person_prefer_d_3_m', 'person_prefer_d_3_l', 'contents_attribute_d_n',\n",
    "       'contents_attribute_d_s', 'contents_attribute_d_m',\n",
    "       'contents_attribute_d_l', 'person_prefer_h_1_m', 'person_prefer_h_2_m',\n",
    "       'person_prefer_h_3_m', 'contents_attribute_h_m', 'person_prefer_h_1_l',\n",
    "       'person_prefer_h_2_l', 'person_prefer_h_3_l', 'contents_attribute_h_l',\n",
    "       'contents_attribute_l_n', 'contents_attribute_l_s',\n",
    "       'contents_attribute_l_m', 'contents_attribute_l_l','target']]\n",
    "\n",
    "test=test[['d_l_match_yn', 'd_m_match_yn', 'd_s_match_yn', 'h_l_match_yn',\n",
    "       'h_m_match_yn', 'h_s_match_yn', 'person_attribute_a',\n",
    "       'person_attribute_a_1', 'person_attribute_b', 'person_prefer_c',\n",
    "       'person_prefer_e', 'person_prefer_f', 'person_prefer_g',\n",
    "       'contents_attribute_i', 'contents_attribute_a',\n",
    "       'contents_attribute_j_1', 'contents_attribute_j',\n",
    "       'contents_attribute_c', 'contents_attribute_k', 'contents_attribute_m',\n",
    "       'contents_attribute_e', 'person_prefer_d_1_n',\n",
    "       'person_prefer_d_1_s', 'person_prefer_d_1_m', 'person_prefer_d_1_l',\n",
    "       'person_prefer_d_2_n', 'person_prefer_d_2_s', 'person_prefer_d_2_m',\n",
    "       'person_prefer_d_2_l', 'person_prefer_d_3_n', 'person_prefer_d_3_s',\n",
    "       'person_prefer_d_3_m', 'person_prefer_d_3_l', 'contents_attribute_d_n',\n",
    "       'contents_attribute_d_s', 'contents_attribute_d_m',\n",
    "       'contents_attribute_d_l', 'person_prefer_h_1_m', 'person_prefer_h_2_m',\n",
    "       'person_prefer_h_3_m', 'contents_attribute_h_m', 'person_prefer_h_1_l',\n",
    "       'person_prefer_h_2_l', 'person_prefer_h_3_l', 'contents_attribute_h_l',\n",
    "       'contents_attribute_l_n', 'contents_attribute_l_s',\n",
    "       'contents_attribute_l_m', 'contents_attribute_l_l']]\n"
   ]
  },
  {
   "cell_type": "code",
   "execution_count": 12,
   "metadata": {},
   "outputs": [
    {
     "data": {
      "text/plain": [
       "(46404, 49)"
      ]
     },
     "execution_count": 12,
     "metadata": {},
     "output_type": "execute_result"
    }
   ],
   "source": [
    "torch.manual_seed(42)\n",
    "\n",
    "\n",
    "train.shape\n",
    "test.shape"
   ]
  },
  {
   "cell_type": "code",
   "execution_count": 4,
   "metadata": {},
   "outputs": [
    {
     "name": "stdout",
     "output_type": "stream",
     "text": [
      "[   1    1    1    0    0    0    1    4    3    5  275  370  369    8\n",
      "    1    1    4   95   59    3    3   10    2    1    2 1608  275    1\n",
      "    4  139]\n",
      "1\n",
      "torch.Size([50000, 30])\n",
      "tensor(1.)\n",
      "(1000, 30)\n"
     ]
    }
   ],
   "source": [
    "\n",
    "x = train.iloc[0:50000, :-1]\n",
    "y = train.iloc[0:50000, -1]\n",
    "\n",
    "x= x.to_numpy()\n",
    "print(x[0])\n",
    "print(y[0])\n",
    "x=np.where(x > 1000, x/1000, x)\n",
    "x=np.where(x > 100, x/100, x)\n",
    "x=np.where(x > 10, x/10, x)\n",
    "# x=x/100\n",
    "x=torch.Tensor(x)\n",
    "print(x.size())\n",
    "print(x[0][1])\n",
    "y=torch.Tensor(y)\n",
    "# print(y)\n",
    "\n",
    "x_train, x_valid, y_train, y_valid = train_test_split(x, y, test_size=0.3, shuffle=True, stratify=y, random_state=42)\n",
    "\n",
    "\n",
    "\n",
    "# print(x)\n",
    "# print(y)\n",
    "\n",
    "\n",
    "batch_size=64\n",
    "\n",
    "dataset_train = TensorDataset(x_train, y_train)\n",
    "dataloader_train = DataLoader(dataset_train, batch_size, shuffle=True)\n",
    "\n",
    "\n",
    "dataset_valid = TensorDataset(x_valid, y_valid)\n",
    "dataloader_valid = DataLoader(dataset_valid, batch_size, shuffle=True)\n",
    "\n",
    "\n",
    "\n",
    "\n",
    "x_test=test.iloc[0:1000]\n",
    "x_test=x_test.to_numpy()\n",
    "x_test=np.where(x_test > 1000, x_test/1000, x_test)\n",
    "x_test=np.where(x_test > 100, x_test/100, x_test)\n",
    "x_test=np.where(x_test > 10, x_test/10, x_test)\n",
    "# x_test=x_test/100\n",
    "\n",
    "print(x_test.shape)\n",
    "x_test=torch.FloatTensor(x_test)"
   ]
  },
  {
   "cell_type": "code",
   "execution_count": 62,
   "metadata": {},
   "outputs": [],
   "source": [
    "\n",
    "\n",
    "\n",
    "class LogisticRegression(nn.Module):\n",
    "    \n",
    "    def __init__(self):\n",
    "        super(LogisticRegression, self).__init__()\n",
    "\n",
    "        # self.linear = nn.Sequential(\n",
    "        self.linear1=nn.Linear(58,32)\n",
    "        self.batch_normal1=nn.BatchNorm1d(32)\n",
    "        self.LeakRelu=nn.LeakyReLU()\n",
    "\n",
    "        self.linear2=nn.Linear(32, 32)\n",
    "        self.batch_normal2=nn.BatchNorm1d(32)\n",
    "        self.LeakRelu=nn.LeakyReLU()\n",
    "\n",
    "        self.linear3=nn.Linear(32, 16)\n",
    "        self.batch_normal3=nn.BatchNorm1d(16)\n",
    "        self.LeakRelu=nn.LeakyReLU()\n",
    "\n",
    "        self.linear4=nn.Linear(16, 1)\n",
    "        self.batch_normal4=nn.BatchNorm1d(1)\n",
    "        self.LeakRelu=nn.LeakyReLU()\n",
    "\n",
    "        self.sigmoid=nn.Sigmoid()    \n",
    "        torch.nn.init.xavier_uniform_(self.linear1.weight)\n",
    "        torch.nn.init.xavier_uniform_(self.linear2.weight)\n",
    "        torch.nn.init.xavier_uniform_(self.linear3.weight)\n",
    "        torch.nn.init.xavier_uniform_(self.linear4.weight)\n",
    "        # )        \n",
    "\n",
    "        self.model=nn.Sequential(self.linear1, self.batch_normal1, self.LeakRelu, self.linear2,self.batch_normal2, self.LeakRelu, self.linear3,self.batch_normal3,self.LeakRelu,\n",
    "        self.linear4, self.batch_normal4,self.LeakRelu,self.sigmoid)\n",
    "\n",
    "    def forward(self, x):\n",
    "        return self.model(x)\n",
    "\n",
    "model1=LogisticRegression()"
   ]
  },
  {
   "cell_type": "code",
   "execution_count": 63,
   "metadata": {},
   "outputs": [
    {
     "name": "stdout",
     "output_type": "stream",
     "text": [
      "<bound method Module.parameters of LogisticRegression(\n",
      "  (linear1): Linear(in_features=58, out_features=32, bias=True)\n",
      "  (batch_normal1): BatchNorm1d(32, eps=1e-05, momentum=0.1, affine=True, track_running_stats=True)\n",
      "  (LeakRelu): LeakyReLU(negative_slope=0.01)\n",
      "  (linear2): Linear(in_features=32, out_features=32, bias=True)\n",
      "  (batch_normal2): BatchNorm1d(32, eps=1e-05, momentum=0.1, affine=True, track_running_stats=True)\n",
      "  (linear3): Linear(in_features=32, out_features=16, bias=True)\n",
      "  (batch_normal3): BatchNorm1d(16, eps=1e-05, momentum=0.1, affine=True, track_running_stats=True)\n",
      "  (linear4): Linear(in_features=16, out_features=1, bias=True)\n",
      "  (batch_normal4): BatchNorm1d(1, eps=1e-05, momentum=0.1, affine=True, track_running_stats=True)\n",
      "  (sigmoid): Sigmoid()\n",
      "  (model): Sequential(\n",
      "    (0): Linear(in_features=58, out_features=32, bias=True)\n",
      "    (1): BatchNorm1d(32, eps=1e-05, momentum=0.1, affine=True, track_running_stats=True)\n",
      "    (2): LeakyReLU(negative_slope=0.01)\n",
      "    (3): Linear(in_features=32, out_features=32, bias=True)\n",
      "    (4): BatchNorm1d(32, eps=1e-05, momentum=0.1, affine=True, track_running_stats=True)\n",
      "    (5): LeakyReLU(negative_slope=0.01)\n",
      "    (6): Linear(in_features=32, out_features=16, bias=True)\n",
      "    (7): BatchNorm1d(16, eps=1e-05, momentum=0.1, affine=True, track_running_stats=True)\n",
      "    (8): LeakyReLU(negative_slope=0.01)\n",
      "    (9): Linear(in_features=16, out_features=1, bias=True)\n",
      "    (10): BatchNorm1d(1, eps=1e-05, momentum=0.1, affine=True, track_running_stats=True)\n",
      "    (11): LeakyReLU(negative_slope=0.01)\n",
      "    (12): Sigmoid()\n",
      "  )\n",
      ")>\n"
     ]
    }
   ],
   "source": [
    "optimizer1 = optim.SGD(model1.parameters(), lr=0.001)\n",
    "print(model1.parameters)\n"
   ]
  },
  {
   "cell_type": "code",
   "execution_count": 64,
   "metadata": {},
   "outputs": [
    {
     "name": "stdout",
     "output_type": "stream",
     "text": [
      "Epoch    0/50 Batch 1/547 Cost: 0.703485 Accuracy 62.50%  f1 score : 0.600000\n",
      "Epoch    0/50 Batch 101/547 Cost: 0.749091 Accuracy 54.69%  f1 score : 0.553846\n",
      "Epoch    0/50 Batch 201/547 Cost: 0.832821 Accuracy 39.06%  f1 score : 0.338983\n",
      "Epoch    0/50 Batch 301/547 Cost: 0.758742 Accuracy 46.88%  f1 score : 0.433333\n",
      "Epoch    0/50 Batch 401/547 Cost: 0.764272 Accuracy 54.69%  f1 score : 0.452830\n",
      "Epoch    0/50 Batch 501/547 Cost: 0.743531 Accuracy 59.38%  f1 score : 0.535714\n",
      "Epoch   10/50 Batch 1/547 Cost: 0.685891 Accuracy 60.94%  f1 score : 0.390244\n",
      "Epoch   10/50 Batch 101/547 Cost: 0.703520 Accuracy 51.56%  f1 score : 0.243902\n",
      "Epoch   10/50 Batch 201/547 Cost: 0.696187 Accuracy 56.25%  f1 score : 0.066667\n",
      "Epoch   10/50 Batch 301/547 Cost: 0.706839 Accuracy 57.81%  f1 score : 0.129032\n",
      "Epoch   10/50 Batch 401/547 Cost: 0.690982 Accuracy 59.38%  f1 score : 0.350000\n",
      "Epoch   10/50 Batch 501/547 Cost: 0.693530 Accuracy 48.44%  f1 score : 0.195122\n",
      "Epoch   20/50 Batch 1/547 Cost: 0.694111 Accuracy 60.94%  f1 score : 0.137931\n",
      "Epoch   20/50 Batch 101/547 Cost: 0.692422 Accuracy 70.31%  f1 score : 0.344828\n",
      "Epoch   20/50 Batch 201/547 Cost: 0.688413 Accuracy 68.75%  f1 score : 0.230769\n",
      "Epoch   20/50 Batch 301/547 Cost: 0.693026 Accuracy 54.69%  f1 score : 0.000000\n",
      "Epoch   20/50 Batch 401/547 Cost: 0.692328 Accuracy 59.38%  f1 score : 0.000000\n",
      "Epoch   20/50 Batch 501/547 Cost: 0.692516 Accuracy 67.19%  f1 score : 0.086957\n",
      "Epoch   30/50 Batch 1/547 Cost: 0.695585 Accuracy 48.44%  f1 score : 0.000000\n",
      "Epoch   30/50 Batch 101/547 Cost: 0.691913 Accuracy 75.00%  f1 score : 0.000000\n",
      "Epoch   30/50 Batch 201/547 Cost: 0.691587 Accuracy 64.06%  f1 score : 0.080000\n",
      "Epoch   30/50 Batch 301/547 Cost: 0.691945 Accuracy 64.06%  f1 score : 0.000000\n",
      "Epoch   30/50 Batch 401/547 Cost: 0.691636 Accuracy 60.94%  f1 score : 0.074074\n",
      "Epoch   30/50 Batch 501/547 Cost: 0.692374 Accuracy 60.94%  f1 score : 0.000000\n",
      "Epoch   40/50 Batch 1/547 Cost: 0.692742 Accuracy 57.81%  f1 score : 0.000000\n",
      "Epoch   40/50 Batch 101/547 Cost: 0.691656 Accuracy 68.75%  f1 score : 0.000000\n",
      "Epoch   40/50 Batch 201/547 Cost: 0.691748 Accuracy 79.69%  f1 score : 0.000000\n",
      "Epoch   40/50 Batch 301/547 Cost: 0.692723 Accuracy 62.50%  f1 score : 0.000000\n",
      "Epoch   40/50 Batch 401/547 Cost: 0.692218 Accuracy 65.62%  f1 score : 0.000000\n",
      "Epoch   40/50 Batch 501/547 Cost: 0.691982 Accuracy 68.75%  f1 score : 0.000000\n",
      "Epoch   50/50 Batch 1/547 Cost: 0.692472 Accuracy 57.81%  f1 score : 0.068966\n",
      "Epoch   50/50 Batch 101/547 Cost: 0.691786 Accuracy 65.62%  f1 score : 0.000000\n",
      "Epoch   50/50 Batch 201/547 Cost: 0.692580 Accuracy 68.75%  f1 score : 0.166667\n",
      "Epoch   50/50 Batch 301/547 Cost: 0.692006 Accuracy 64.06%  f1 score : 0.000000\n",
      "Epoch   50/50 Batch 401/547 Cost: 0.691541 Accuracy 76.56%  f1 score : 0.000000\n",
      "Epoch   50/50 Batch 501/547 Cost: 0.691343 Accuracy 71.88%  f1 score : 0.000000\n"
     ]
    }
   ],
   "source": [
    "nb_epochs = 50\n",
    "accuracy_list_train=[]\n",
    "accuracy_list_valid=[]\n",
    "f1_list_train=[]\n",
    "f1_list_valid=[]\n",
    "accuracy_mean=0\n",
    "f1_mean=0\n",
    "for epoch in range(nb_epochs + 1):\n",
    "    accuracy_mean=0\n",
    "    f1_mean=0\n",
    "    for batch_idx, samples in enumerate(dataloader_train):\n",
    "\n",
    "        x_train, y_train = samples\n",
    "\n",
    "        x_train=x_train\n",
    "        y_train=y_train\n",
    "\n",
    "\n",
    "        # H(x) 계산\n",
    "        hypothesis = model1(x_train)\n",
    "        \n",
    "        \n",
    "    \n",
    "        # cost 계산\n",
    "        # print(y_train.size())\n",
    "        hypothesis=hypothesis.squeeze()\n",
    "        # print(hypothesis.size())\n",
    "        # print(hypothesis)\n",
    "        # print(y_train)\n",
    "        cost = F.binary_cross_entropy(hypothesis, y_train)\n",
    "\n",
    "        # cost로 H(x) 개선\n",
    "        optimizer1.zero_grad()\n",
    "        cost.backward()\n",
    "        optimizer1.step()\n",
    "\n",
    "        bigo=torch.FloatTensor([0.5])\n",
    "\n",
    "        prediction = hypothesis >= bigo # 예측값이 0.5를 넘으면 True로 간주\n",
    "        correct_prediction = prediction.float() == y_train # 실제값과 일치하는 경우만 True로 간주\n",
    "        accuracy = correct_prediction.sum().item() / len(correct_prediction) # 정확도를 계산\n",
    "        accuracy_mean= accuracy+accuracy_mean\n",
    "        f1 = f1_score(y_train.cpu(), prediction.float().cpu())\n",
    "        f1_mean=f1 + f1_mean\n",
    "\n",
    "        # 20번마다 로그 출력\n",
    "        if epoch % 10 == 0:\n",
    "          if batch_idx %100 == 0:\n",
    "              prediction = hypothesis >= bigo # 예측값이 0.5를 넘으면 True로 간주\n",
    "              correct_prediction = prediction.float() == y_train # 실제값과 일치하는 경우만 True로 간주\n",
    "              accuracy = correct_prediction.sum().item() / len(correct_prediction) # 정확도를 계산\n",
    "              f1 = f1_score(y_train.cpu(), prediction.float().cpu())\n",
    "              print('Epoch {:4d}/{} Batch {}/{} Cost: {:.6f} Accuracy {:2.2f}%  f1 score : {:2.6f}'.format( # 각 에포크마다 정확도를 출력\n",
    "                  epoch, nb_epochs, batch_idx+1, len(dataloader_train), cost.item(), accuracy * 100, f1\n",
    "              ))\n",
    " \n",
    "    accuracy_mean=accuracy_mean/len(dataloader_train)\n",
    "    accuracy_list_train.append(accuracy_mean)\n",
    "    f1_mean=f1_mean/len(dataloader_train)\n",
    "    f1_list_train.append(f1_mean)\n",
    "\n",
    "    valid_hypothesis = model1(x_valid)\n",
    "    valid_hypothesis=valid_hypothesis.squeeze()\n",
    "    valid_prediction = valid_hypothesis >= bigo # 예측값이 0.5를 넘으면 True로 간주\n",
    "    valid_correct_prediction = valid_prediction.float() == y_valid # 실제값과 일치하는 경우만 True로 간주\n",
    "    valid_accuracy = valid_correct_prediction.sum().item() / len(valid_correct_prediction) # 정확도를 계산\n",
    "    # print(valid_hypothesis)\n",
    "    # print(valid_prediction)\n",
    "    \n",
    "    # print(valid_accuracy)\n",
    "    # print(len(valid_correct_prediction))\n",
    "    # print(valid_correct_prediction.sum().item())\n",
    "    valid_f1 = f1_score(y_valid, valid_prediction.float())\n",
    "\n",
    "    accuracy_list_valid.append(valid_accuracy)\n",
    "    f1_list_valid.append(valid_f1)\n",
    "\n",
    "\n",
    "\n",
    "\n",
    "\n",
    "\n"
   ]
  },
  {
   "cell_type": "code",
   "execution_count": 65,
   "metadata": {},
   "outputs": [
    {
     "name": "stdout",
     "output_type": "stream",
     "text": [
      "51\n",
      "51\n"
     ]
    },
    {
     "data": {
      "image/png": "[encoded data removed]",
      "text/plain": [
       "<Figure size 640x480 with 1 Axes>"
      ]
     },
     "metadata": {},
     "output_type": "display_data"
    },
    {
     "name": "stdout",
     "output_type": "stream",
     "text": [
      "[0.4905817445808305, 0.49809023243666756, 0.5106669495951947, 0.5217174849830243, 0.5322946591799426, 0.5424474405850092, 0.5573705601984853, 0.566037966832071, 0.5746890506659702, 0.581593594933403, 0.5873106555236354, 0.5945253329851137, 0.5987080504048053, 0.5998302428832593, 0.6043149320971533, 0.6065470749542962, 0.611407188560982, 0.61402291721076, 0.6136148472185949, 0.6140963698093497, 0.6158225058762079, 0.617748596239227, 0.6175323191433795, 0.6194257639070253, 0.6198583180987203, 0.6204949072864978, 0.6209315421781144, 0.6197848655001306, 0.6221312679550797, 0.6213273700705145, 0.6234942217289109, 0.6225230151475581, 0.6230820710368242, 0.6236737725254635, 0.6223557064507704, 0.6253591015931053, 0.625526410289893, 0.6236044006267956, 0.6245756072081484, 0.6250408069992165, 0.6232167341342387, 0.6250163227996866, 0.6246408984068947, 0.6247184317054062, 0.6251101788978846, 0.6247878036040742, 0.624861256202664, 0.6250448876991381, 0.6256365891877774, 0.6260569012797075, 0.6262446134761034]\n",
      "[0.4872, 0.4968666666666667, 0.5080666666666667, 0.5218, 0.5335333333333333, 0.55, 0.5594, 0.5698666666666666, 0.5756666666666667, 0.584, 0.5909333333333333, 0.5968666666666667, 0.6011333333333333, 0.6048, 0.6065333333333334, 0.6086, 0.6118666666666667, 0.614, 0.6159333333333333, 0.6178, 0.6195333333333334, 0.6201333333333333, 0.621, 0.6218, 0.6216666666666667, 0.6227333333333334, 0.6237333333333334, 0.6238666666666667, 0.6243333333333333, 0.6248666666666667, 0.6249333333333333, 0.625, 0.6252, 0.6254666666666666, 0.626, 0.6258, 0.6260666666666667, 0.6268, 0.6269333333333333, 0.6269333333333333, 0.6271333333333333, 0.6273333333333333, 0.6276, 0.6277333333333334, 0.6278, 0.6276, 0.6276, 0.6276, 0.6278, 0.6279333333333333, 0.6279333333333333]\n"
     ]
    }
   ],
   "source": [
    "t=range(0,nb_epochs+1)\n",
    "print(len(accuracy_list_train))\n",
    "print(len(accuracy_list_valid))\n",
    "\n",
    "plt.plot(t,accuracy_list_train,'r--',t,accuracy_list_valid,'g-')\n",
    "\n",
    "\n",
    "plt.show()\n",
    "\n",
    "print(accuracy_list_train)\n",
    "print(accuracy_list_valid)"
   ]
  },
  {
   "cell_type": "code",
   "execution_count": 67,
   "metadata": {},
   "outputs": [
    {
     "data": {
      "image/png": "[encoded data removed]",
      "text/plain": [
       "<Figure size 640x480 with 1 Axes>"
      ]
     },
     "metadata": {},
     "output_type": "display_data"
    },
    {
     "name": "stdout",
     "output_type": "stream",
     "text": [
      "[0.4672447139889434, 0.46043807864456654, 0.4524852972591694, 0.4369633701398214, 0.4143214534658053, 0.38609326798288934, 0.3622302912452198, 0.33502938570764207, 0.3030338176135546, 0.27315517605452566, 0.24621820387130136, 0.2270025180140097, 0.19891176832042157, 0.17242904882466778, 0.15403033473289293, 0.1376437123781134, 0.1319359084271158, 0.1196737521268081, 0.10794069310961175, 0.09715230022780667, 0.09080955755027141, 0.08239428215134428, 0.07222085938932689, 0.07103066445072706, 0.06281276693059676, 0.062120773593549755, 0.05533870618628557, 0.04990499971615654, 0.050777994567013665, 0.04286915042465669, 0.04382623138902272, 0.04047676774323652, 0.036085955276104344, 0.038163003160950115, 0.030607686401539637, 0.03585216793298385, 0.03631528324403897, 0.029587835826657444, 0.02748753114070854, 0.0289423453335162, 0.023856314236823085, 0.028417796548683552, 0.022916063013254627, 0.021630373684691517, 0.022221546601260363, 0.017746658838947448, 0.018425278039946917, 0.018106174302153333, 0.017459651098668413, 0.01608583261776618, 0.019771639036639612]\n",
      "[0.4609670637701472, 0.4517253904831094, 0.43932831851682996, 0.41933133651744514, 0.3913005654632449, 0.3657207291862432, 0.3343740557961527, 0.3068328319724968, 0.27365057628665984, 0.24728588661037396, 0.219735503560529, 0.19491412594860869, 0.17304768486523842, 0.15168860904407555, 0.13282397884219807, 0.11647855530474041, 0.10568356374807986, 0.09531250000000001, 0.08511989836430046, 0.07427740997900856, 0.06824489795918368, 0.05818181818181818, 0.05139329217420324, 0.049270990447461034, 0.043485589078038095, 0.041334914450279515, 0.03915560095335376, 0.03456536618754279, 0.032618025751072956, 0.030997072498708457, 0.02966540186271128, 0.026984950700570835, 0.0253120665742025, 0.023974982626824185, 0.02264808362369338, 0.02127288578901482, 0.02094606388549485, 0.01995798319327731, 0.019621583742116328, 0.018589968432129077, 0.01756543123133673, 0.016883573689764335, 0.016549295774647886, 0.016208597603946443, 0.01586462189317821, 0.014814814814814814, 0.014119308153900459, 0.013074204946996465, 0.013081138412586176, 0.01308576480990274, 0.01308576480990274]\n"
     ]
    }
   ],
   "source": [
    "plt.plot(t,f1_list_train,'r--',t,f1_list_valid,'g-')\n",
    "\n",
    "plt.show()\n",
    "\n",
    "print(f1_list_train)\n",
    "print(f1_list_valid)"
   ]
  },
  {
   "cell_type": "code",
   "execution_count": 68,
   "metadata": {},
   "outputs": [
    {
     "name": "stdout",
     "output_type": "stream",
     "text": [
      "tensor([[0.4987],\n",
      "        [0.4994],\n",
      "        [0.4986],\n",
      "        ...,\n",
      "        [0.4989],\n",
      "        [0.4990],\n",
      "        [0.4990]])\n",
      "torch.Size([15000, 1])\n",
      "Accuracy: 0.6279333333333333\n"
     ]
    }
   ],
   "source": [
    "# 테스트 데이터를 사용하여 모델을 테스트한다.\n",
    "with torch.no_grad(): # torch.no_grad()를 하면 gradient 계산을 수행하지 않는다.\n",
    "    X_valid = x_valid\n",
    "    Y_valid = y_valid\n",
    "\n",
    "    prediction = model1(X_valid)\n",
    "\n",
    "    print(prediction)\n",
    "\n",
    "    predictions = prediction >= bigo # 예측값이 0.5를 넘으면 True로 간주\n",
    "    \n",
    "    # print(predictions)\n",
    "    # print('='*20)\n",
    "    # print(predictions.size())\n",
    "    # print('='*20)\n",
    "    # print(predictions)\n",
    "    # print(predictions.shape)\n",
    "    Y_valid=torch.unsqueeze(Y_valid,1)\n",
    "    print(Y_valid.shape)\n",
    "\n",
    "    correct_prediction = predictions == Y_valid # 실제값과 일치하는 경우만 True로 간주\n",
    "\n",
    "    # print(y_valid)\n",
    "\n",
    "    # correct_prediction=predictions.replace([True,False],[1,0])\n",
    "\n",
    "    # print(correct_prediction)\n",
    "    # print(correct_prediction.size())\n",
    "    # print(len(correct_prediction))\n",
    "\n",
    "    accuracy = correct_prediction.sum().item() / len(correct_prediction) # 정확도를 계산\n",
    "\n",
    "    print('Accuracy:', accuracy)\n"
   ]
  },
  {
   "cell_type": "code",
   "execution_count": 69,
   "metadata": {},
   "outputs": [
    {
     "name": "stdout",
     "output_type": "stream",
     "text": [
      "0      False\n",
      "1      False\n",
      "2      False\n",
      "3      False\n",
      "4      False\n",
      "       ...  \n",
      "995    False\n",
      "996    False\n",
      "997    False\n",
      "998    False\n",
      "999    False\n",
      "Length: 1000, dtype: bool\n"
     ]
    }
   ],
   "source": [
    "result=pd.read_csv('C:\\\\Users\\\\user\\\\Desktop\\\\computing\\\\outside\\\\dacon\\\\jobcare_recommend\\\\Jobcare_data\\\\sample_submission.csv')\n",
    "\n",
    "\n",
    "hypothesis=model1(x_test)\n",
    "\n",
    "prediction = hypothesis >= torch.FloatTensor([0.5]) # 예측값이 0.5를 넘으면 True로 간주\n",
    "prediction = torch.squeeze(prediction)\n",
    "prediction=pd.Series(prediction)\n",
    "print(prediction)\n",
    "prediction=prediction.replace([True,False],[1,0])\n",
    "\n",
    "result['target']=prediction\n",
    "result.to_csv('result.csv',index=False)\n",
    "\n"
   ]
  },
  {
   "cell_type": "code",
   "execution_count": null,
   "metadata": {},
   "outputs": [],
   "source": [
    "\n",
    "\n"
   ]
  }
 ],
 "metadata": {
  "interpreter": {
   "hash": "f68a52d6746b8edec33e9d0848c665d5f17e646007ceb6470c84aeea645ccfe6"
  },
  "kernelspec": {
   "display_name": "Python 3.9.6 64-bit ('dacon': conda)",
   "language": "python",
   "name": "python3"
  },
  "language_info": {
   "codemirror_mode": {
    "name": "ipython",
    "version": 3
   },
   "file_extension": ".py",
   "mimetype": "text/x-python",
   "name": "python",
   "nbconvert_exporter": "python",
   "pygments_lexer": "ipython3",
   "version": "3.8.11"
  },
  "orig_nbformat": 4
 },
 "nbformat": 4,
 "nbformat_minor": 2
}
