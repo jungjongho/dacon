{
  "nbformat": 4,
  "nbformat_minor": 0,
  "metadata": {
    "colab": {
      "name": "catboost.ipynb",
      "provenance": [],
      "collapsed_sections": []
    },
    "kernelspec": {
      "name": "python3",
      "display_name": "Python 3"
    },
    "language_info": {
      "name": "python"
    },
    "accelerator": "GPU"
  },
  "cells": [
    {
      "cell_type": "code",
      "execution_count": null,
      "metadata": {
        "colab": {
          "base_uri": "https://localhost:8080/"
        },
        "id": "8jKI4qSZ4NLy",
        "outputId": "14740f5d-c9d9-4454-cf9a-560e5dd224e5"
      },
      "outputs": [
        {
          "output_type": "stream",
          "name": "stdout",
          "text": [
            "Drive already mounted at /content/drive; to attempt to forcibly remount, call drive.mount(\"/content/drive\", force_remount=True).\n"
          ]
        }
      ],
      "source": [
        "from google.colab import drive\n",
        "drive.mount('/content/drive')"
      ]
    },
    {
      "cell_type": "code",
      "source": [
        "!pip install catboost"
      ],
      "metadata": {
        "colab": {
          "base_uri": "https://localhost:8080/"
        },
        "id": "YUBAItld4VTM",
        "outputId": "80da25f0-a84b-403f-eb70-51be7d979d8f"
      },
      "execution_count": null,
      "outputs": [
        {
          "output_type": "stream",
          "name": "stdout",
          "text": [
            "Requirement already satisfied: catboost in /usr/local/lib/python3.7/dist-packages (1.0.4)\n",
            "Requirement already satisfied: matplotlib in /usr/local/lib/python3.7/dist-packages (from catboost) (3.2.2)\n",
            "Requirement already satisfied: graphviz in /usr/local/lib/python3.7/dist-packages (from catboost) (0.10.1)\n",
            "Requirement already satisfied: plotly in /usr/local/lib/python3.7/dist-packages (from catboost) (4.4.1)\n",
            "Requirement already satisfied: scipy in /usr/local/lib/python3.7/dist-packages (from catboost) (1.4.1)\n",
            "Requirement already satisfied: six in /usr/local/lib/python3.7/dist-packages (from catboost) (1.15.0)\n",
            "Requirement already satisfied: pandas>=0.24.0 in /usr/local/lib/python3.7/dist-packages (from catboost) (1.1.5)\n",
            "Requirement already satisfied: numpy>=1.16.0 in /usr/local/lib/python3.7/dist-packages (from catboost) (1.19.5)\n",
            "Requirement already satisfied: python-dateutil>=2.7.3 in /usr/local/lib/python3.7/dist-packages (from pandas>=0.24.0->catboost) (2.8.2)\n",
            "Requirement already satisfied: pytz>=2017.2 in /usr/local/lib/python3.7/dist-packages (from pandas>=0.24.0->catboost) (2018.9)\n",
            "Requirement already satisfied: pyparsing!=2.0.4,!=2.1.2,!=2.1.6,>=2.0.1 in /usr/local/lib/python3.7/dist-packages (from matplotlib->catboost) (3.0.6)\n",
            "Requirement already satisfied: kiwisolver>=1.0.1 in /usr/local/lib/python3.7/dist-packages (from matplotlib->catboost) (1.3.2)\n",
            "Requirement already satisfied: cycler>=0.10 in /usr/local/lib/python3.7/dist-packages (from matplotlib->catboost) (0.11.0)\n",
            "Requirement already satisfied: retrying>=1.3.3 in /usr/local/lib/python3.7/dist-packages (from plotly->catboost) (1.3.3)\n"
          ]
        }
      ]
    },
    {
      "cell_type": "code",
      "source": [
        "import os\n",
        "import sys\n",
        "import platform\n",
        "import random\n",
        "import math\n",
        "from typing import List ,Dict, Tuple\n",
        "\n",
        "import pandas as pd\n",
        "import numpy as np\n",
        " \n",
        "import sklearn \n",
        "from sklearn.model_selection import StratifiedKFold , KFold, train_test_split\n",
        "from sklearn.metrics import f1_score \n",
        "\n",
        "from catboost import Pool,CatBoostClassifier\n"
      ],
      "metadata": {
        "id": "dHjklxq84VmI"
      },
      "execution_count": null,
      "outputs": []
    },
    {
      "cell_type": "code",
      "source": [
        "#데이터 불러오기\n",
        "train = pd.read_csv('/content/train.csv')\n",
        "test = pd.read_csv('/content/test.csv')\n",
        "d_code=pd.read_csv('/content/속성_D_코드.csv',index_col=0).T.to_dict()\n",
        "h_code=pd.read_csv('/content/속성_H_코드.csv',index_col=0).T.to_dict()\n",
        "l_code=pd.read_csv('/content/속성_L_코드.csv',index_col=0).T.to_dict()"
      ],
      "metadata": {
        "id": "CTOjNewf4cdK"
      },
      "execution_count": null,
      "outputs": []
    },
    {
      "cell_type": "code",
      "source": [
        "#데이터 재가공\n",
        "def add_code(df, d_code, h_code, l_code):\n",
        "    df = df.copy()   \n",
        "\n",
        "    # D Code\n",
        "    df['person_prefer_d_1_n'] = df['person_prefer_d_1'].apply(lambda x: d_code[x]['속성 D 세분류코드'])\n",
        "    df['person_prefer_d_1_s'] = df['person_prefer_d_1'].apply(lambda x: d_code[x]['속성 D 소분류코드'])\n",
        "    df['person_prefer_d_1_m'] = df['person_prefer_d_1'].apply(lambda x: d_code[x]['속성 D 중분류코드'])\n",
        "    df['person_prefer_d_1_l'] = df['person_prefer_d_1'].apply(lambda x: d_code[x]['속성 D 대분류코드'])\n",
        "\n",
        "    df['person_prefer_d_2_n'] = df['person_prefer_d_2'].apply(lambda x: d_code[x]['속성 D 세분류코드'])\n",
        "    df['person_prefer_d_2_s'] = df['person_prefer_d_2'].apply(lambda x: d_code[x]['속성 D 소분류코드'])\n",
        "    df['person_prefer_d_2_m'] = df['person_prefer_d_2'].apply(lambda x: d_code[x]['속성 D 중분류코드'])\n",
        "    df['person_prefer_d_2_l'] = df['person_prefer_d_2'].apply(lambda x: d_code[x]['속성 D 대분류코드'])\n",
        "\n",
        "    df['person_prefer_d_3_n'] = df['person_prefer_d_3'].apply(lambda x: d_code[x]['속성 D 세분류코드'])\n",
        "    df['person_prefer_d_3_s'] = df['person_prefer_d_3'].apply(lambda x: d_code[x]['속성 D 소분류코드'])\n",
        "    df['person_prefer_d_3_m'] = df['person_prefer_d_3'].apply(lambda x: d_code[x]['속성 D 중분류코드'])\n",
        "    df['person_prefer_d_3_l'] = df['person_prefer_d_3'].apply(lambda x: d_code[x]['속성 D 대분류코드'])\n",
        "\n",
        "    df['contents_attribute_d_n'] = df['contents_attribute_d'].apply(lambda x: d_code[x]['속성 D 세분류코드'])\n",
        "    df['contents_attribute_d_s'] = df['contents_attribute_d'].apply(lambda x: d_code[x]['속성 D 소분류코드'])\n",
        "    df['contents_attribute_d_m'] = df['contents_attribute_d'].apply(lambda x: d_code[x]['속성 D 중분류코드'])\n",
        "    df['contents_attribute_d_l'] = df['contents_attribute_d'].apply(lambda x: d_code[x]['속성 D 대분류코드'])\n",
        "\n",
        "    # H Code\n",
        "    df['person_prefer_h_1_m'] = df['person_prefer_h_1'].apply(lambda x: h_code[x]['속성 H 중분류코드'])\n",
        "    df['person_prefer_h_2_m'] = df['person_prefer_h_2'].apply(lambda x: h_code[x]['속성 H 중분류코드'])\n",
        "    df['person_prefer_h_3_m'] = df['person_prefer_h_3'].apply(lambda x: h_code[x]['속성 H 중분류코드'])\n",
        "    df['contents_attribute_h_m'] = df['contents_attribute_h'].apply(lambda x: h_code[x]['속성 H 중분류코드'])\n",
        "\n",
        "    df['person_prefer_h_1_l'] = df['person_prefer_h_1'].apply(lambda x: h_code[x]['속성 H 대분류코드'])\n",
        "    df['person_prefer_h_2_l'] = df['person_prefer_h_2'].apply(lambda x: h_code[x]['속성 H 대분류코드'])\n",
        "    df['person_prefer_h_3_l'] = df['person_prefer_h_3'].apply(lambda x: h_code[x]['속성 H 대분류코드'])\n",
        "    df['contents_attribute_h_l'] = df['contents_attribute_h'].apply(lambda x: h_code[x]['속성 H 대분류코드'])\n",
        "\n",
        "    # L Code\n",
        "    df['contents_attribute_l_n'] = df['contents_attribute_l'].apply(lambda x: l_code[x]['속성 L 세분류코드'])\n",
        "    df['contents_attribute_l_s'] = df['contents_attribute_l'].apply(lambda x: l_code[x]['속성 L 소분류코드'])\n",
        "    df['contents_attribute_l_m'] = df['contents_attribute_l'].apply(lambda x: l_code[x]['속성 L 중분류코드'])\n",
        "    df['contents_attribute_l_l'] = df['contents_attribute_l'].apply(lambda x: l_code[x]['속성 L 대분류코드'])\n",
        "    \n",
        "    return df\n",
        "\n",
        "\n",
        "train = add_code(train, d_code, h_code, l_code)\n",
        "test = add_code(test, d_code, h_code, l_code)"
      ],
      "metadata": {
        "id": "EOHb1QPy4pTI"
      },
      "execution_count": null,
      "outputs": []
    },
    {
      "cell_type": "code",
      "source": [
        "train = train.drop(['id', 'contents_open_dt','person_rn', 'contents_rn',\n",
        "# 'person_prefer_d_1','person_prefer_d_2','person_prefer_d_3',\n",
        "# 'contents_attribute_d','person_prefer_h_1','person_prefer_h_2','person_prefer_h_3','contents_attribute_h','contents_attribute_l',\n",
        "'person_prefer_f','person_prefer_g'], axis=1) \n",
        "\n",
        "\n",
        "test = test.drop(['id', 'contents_open_dt','person_rn', 'contents_rn',\n",
        "# 'person_prefer_d_1','person_prefer_d_2','person_prefer_d_3',\n",
        "# 'contents_attribute_d','person_prefer_h_1','person_prefer_h_2','person_prefer_h_3','contents_attribute_h','contents_attribute_l',\n",
        "'person_prefer_f','person_prefer_g'], axis=1)\n",
        "\n",
        "# print(train.head())\n",
        "train['d_l_match_yn']=train['d_l_match_yn'].replace([True,False],[1,0])\n",
        "train['d_m_match_yn']=train['d_m_match_yn'].replace([True,False],[1,0])\n",
        "train['d_s_match_yn']=train['d_s_match_yn'].replace([True,False],[1,0])\n",
        "train['h_l_match_yn']=train['h_l_match_yn'].replace([True,False],[1,0])\n",
        "train['h_m_match_yn']=train['h_m_match_yn'].replace([True,False],[1,0])\n",
        "train['h_s_match_yn']=train['h_s_match_yn'].replace([True,False],[1,0])\n",
        "\n",
        "test['d_l_match_yn']=test['d_l_match_yn'].replace([True,False],[1,0])\n",
        "test['d_m_match_yn']=test['d_m_match_yn'].replace([True,False],[1,0])\n",
        "test['d_s_match_yn']=test['d_s_match_yn'].replace([True,False],[1,0])\n",
        "test['h_l_match_yn']=test['h_l_match_yn'].replace([True,False],[1,0])\n",
        "test['h_m_match_yn']=test['h_m_match_yn'].replace([True,False],[1,0])\n",
        "test['h_s_match_yn']=test['h_s_match_yn'].replace([True,False],[1,0])"
      ],
      "metadata": {
        "id": "1EhYbhHHQLkn"
      },
      "execution_count": null,
      "outputs": []
    },
    {
      "cell_type": "code",
      "source": [
        "# def merge_codes(df:pd.DataFrame,df_code:pd.DataFrame,col:str)->pd.DataFrame:\n",
        "#     df = df.copy()\n",
        "#     df_code = df_code.copy()\n",
        "#     df_code = df_code.add_prefix(f\"{col}_\")\n",
        "#     #print(df_code)\n",
        "#     df_code.columns.values[0] = col\n",
        "#     #print(df_code)\n",
        "#     return pd.merge(df,df_code,how=\"left\",on=col)"
      ],
      "metadata": {
        "id": "sbr8Oq-L4qgJ"
      },
      "execution_count": null,
      "outputs": []
    },
    {
      "cell_type": "code",
      "source": [
        "# def preprocess_data(\n",
        "#                     df:pd.DataFrame,is_train:bool = True, cols_merge:List[Tuple[str,pd.DataFrame]] = []  , cols_equi:List[Tuple[str,str]]= [] ,\n",
        "#                     cols_drop:List[str] = [\"id\",\"person_prefer_f\",\"person_prefer_g\" ,\"contents_open_dt\"]\n",
        "#                     )->Tuple[pd.DataFrame,np.ndarray]:\n",
        "#     df = df.copy()\n",
        "\n",
        "#     y_data = None\n",
        "#     if is_train:\n",
        "#         y_data = df[\"target\"].to_numpy()\n",
        "#         df = df.drop(columns=\"target\")\n",
        "\n",
        "#     for col, df_code in cols_merge:\n",
        "#         df = merge_codes(df,df_code,col)\n",
        "\n",
        "#     cols = df.select_dtypes(bool).columns.tolist()\n",
        "#     df[cols] = df[cols].astype(int)\n",
        "\n",
        "#     for col1, col2 in cols_equi:\n",
        "#         df[f\"{col1}_{col2}\"] = (df[col1] == df[col2] ).astype(int)\n",
        "\n",
        "#     df = df.drop(columns=cols_drop)\n",
        "#     return (df , y_data)"
      ],
      "metadata": {
        "id": "2_ucSmLC4t7Y"
      },
      "execution_count": null,
      "outputs": []
    },
    {
      "cell_type": "code",
      "source": [
        "# # 소분류 중분류 대분류 속성코드 merge 컬럼명 및 데이터 프레임 리스트\n",
        "# cols_merge = [\n",
        "#               (\"person_prefer_d_1\" , code_d),\n",
        "#               (\"person_prefer_d_2\" , code_d),\n",
        "#               (\"person_prefer_d_3\" , code_d),\n",
        "#               (\"contents_attribute_d\" , code_d),\n",
        "#               (\"person_prefer_h_1\" , code_h),\n",
        "#               (\"person_prefer_h_2\" , code_h),\n",
        "#               (\"person_prefer_h_3\" , code_h),\n",
        "#               (\"contents_attribute_h\" , code_h),\n",
        "#               (\"contents_attribute_l\" , code_l),\n",
        "# ]\n",
        "\n",
        "# # 회원 속성과 콘텐츠 속성의 동일한 코드 여부에 대한 컬럼명 리스트\n",
        "# cols_equi = [\n",
        "\n",
        "#     (\"contents_attribute_c\",\"person_prefer_c\"),\n",
        "#     (\"contents_attribute_e\",\"person_prefer_e\"),\n",
        "\n",
        "#     (\"person_prefer_d_2_attribute_d_s\" , \"contents_attribute_d_attribute_d_s\"),\n",
        "#     (\"person_prefer_d_2_attribute_d_m\" , \"contents_attribute_d_attribute_d_m\"),\n",
        "#     (\"person_prefer_d_3_attribute_d_s\" , \"contents_attribute_d_attribute_d_s\"),\n",
        "#     (\"person_prefer_d_2_attribute_d_l\" , \"contents_attribute_d_attribute_d_l\"),\n",
        "#     (\"person_prefer_d_3_attribute_d_l\" , \"contents_attribute_d_attribute_d_s\"),\n",
        "#     (\"person_prefer_d_3_attribute_d_m\" , \"contents_attribute_d_attribute_d_l\"),\n",
        "\n",
        "\n",
        "# ]\n",
        "\n",
        "# # 학습에 필요없는 컬럼 리스트\n",
        "# cols_drop = [\"id\",\"person_prefer_f\",\"person_prefer_g\" ,\"contents_open_dt\", \"contents_rn\", ]"
      ],
      "metadata": {
        "id": "YBbYjvaL4vQS"
      },
      "execution_count": null,
      "outputs": []
    },
    {
      "cell_type": "code",
      "source": [
        ""
      ],
      "metadata": {
        "id": "DC2K0YYi4wcN"
      },
      "execution_count": null,
      "outputs": []
    },
    {
      "cell_type": "code",
      "source": [
        "#컬럼 순서 변경\n",
        "train.columns\n",
        "train=train[['d_l_match_yn', 'd_m_match_yn', 'd_s_match_yn', 'h_l_match_yn',\n",
        "       'h_m_match_yn', 'h_s_match_yn', 'person_attribute_a',\n",
        "       'person_attribute_a_1', 'person_attribute_b', 'person_prefer_c',\n",
        "       'person_prefer_e',\n",
        "       'contents_attribute_i', 'contents_attribute_a',\n",
        "       'contents_attribute_j_1', 'contents_attribute_j',\n",
        "       'contents_attribute_c', 'contents_attribute_k', 'contents_attribute_m',\n",
        "       'contents_attribute_e', 'person_prefer_d_1_n',\n",
        "       'person_prefer_d_1_s', 'person_prefer_d_1_m', 'person_prefer_d_1_l',\n",
        "       'person_prefer_d_2_n', 'person_prefer_d_2_s', 'person_prefer_d_2_m',\n",
        "       'person_prefer_d_2_l', 'person_prefer_d_3_n', 'person_prefer_d_3_s',\n",
        "       'person_prefer_d_3_m', 'person_prefer_d_3_l', 'contents_attribute_d_n',\n",
        "       'contents_attribute_d_s', 'contents_attribute_d_m',\n",
        "       'contents_attribute_d_l', 'person_prefer_h_1_m', 'person_prefer_h_2_m',\n",
        "       'person_prefer_h_3_m', 'contents_attribute_h_m', 'person_prefer_h_1_l',\n",
        "       'person_prefer_h_2_l', 'person_prefer_h_3_l', 'contents_attribute_h_l',\n",
        "       'contents_attribute_l_n', 'contents_attribute_l_s',\n",
        "       'contents_attribute_l_m', 'contents_attribute_l_l','target']]\n",
        "\n",
        "test=test[['d_l_match_yn', 'd_m_match_yn', 'd_s_match_yn', 'h_l_match_yn',\n",
        "       'h_m_match_yn', 'h_s_match_yn', 'person_attribute_a',\n",
        "       'person_attribute_a_1', 'person_attribute_b', 'person_prefer_c',\n",
        "       'person_prefer_e',\n",
        "       'contents_attribute_i', 'contents_attribute_a',\n",
        "       'contents_attribute_j_1', 'contents_attribute_j',\n",
        "       'contents_attribute_c', 'contents_attribute_k', 'contents_attribute_m',\n",
        "       'contents_attribute_e', 'person_prefer_d_1_n',\n",
        "       'person_prefer_d_1_s', 'person_prefer_d_1_m', 'person_prefer_d_1_l',\n",
        "       'person_prefer_d_2_n', 'person_prefer_d_2_s', 'person_prefer_d_2_m',\n",
        "       'person_prefer_d_2_l', 'person_prefer_d_3_n', 'person_prefer_d_3_s',\n",
        "       'person_prefer_d_3_m', 'person_prefer_d_3_l', 'contents_attribute_d_n',\n",
        "       'contents_attribute_d_s', 'contents_attribute_d_m',\n",
        "       'contents_attribute_d_l', 'person_prefer_h_1_m', 'person_prefer_h_2_m',\n",
        "       'person_prefer_h_3_m', 'contents_attribute_h_m', 'person_prefer_h_1_l',\n",
        "       'person_prefer_h_2_l', 'person_prefer_h_3_l', 'contents_attribute_h_l',\n",
        "       'contents_attribute_l_n', 'contents_attribute_l_s',\n",
        "       'contents_attribute_l_m', 'contents_attribute_l_l']]\n"
      ],
      "metadata": {
        "id": "4LYezkzwQYwE"
      },
      "execution_count": null,
      "outputs": []
    },
    {
      "cell_type": "code",
      "source": [
        "\n",
        "x = train.iloc[:, :-1]\n",
        "y = train.iloc[:, -1]\n",
        "\n",
        "# x= x.to_numpy()\n",
        "\n",
        "# x_train, x_valid, y_train, y_valid = train_test_split(x, y, test_size=0.2, shuffle=True, stratify=y, random_state=42)\n",
        "\n",
        "\n",
        "\n",
        "\n",
        "\n",
        "\n",
        "\n",
        "# x_test=test.iloc[:]\n",
        "# x_test=x_test.to_numpy()\n",
        "\n",
        "\n"
      ],
      "metadata": {
        "id": "_KuSU4UqQcYm"
      },
      "execution_count": null,
      "outputs": []
    },
    {
      "cell_type": "code",
      "source": [
        "cat_features = x_train.columns[x_train.nunique() > 2].tolist()"
      ],
      "metadata": {
        "id": "yY5D0szR4yK5"
      },
      "execution_count": null,
      "outputs": []
    },
    {
      "cell_type": "code",
      "source": [
        "x_train.nunique()"
      ],
      "metadata": {
        "colab": {
          "base_uri": "https://localhost:8080/"
        },
        "id": "1yPYQmNf4zqU",
        "outputId": "62accc08-0d8c-465c-e6a5-bc7d390b8458"
      },
      "execution_count": null,
      "outputs": [
        {
          "output_type": "execute_result",
          "data": {
            "text/plain": [
              "d_l_match_yn                2\n",
              "d_m_match_yn                2\n",
              "d_s_match_yn                2\n",
              "h_l_match_yn                2\n",
              "h_m_match_yn                2\n",
              "h_s_match_yn                2\n",
              "person_attribute_a          2\n",
              "person_attribute_a_1        8\n",
              "person_attribute_b          6\n",
              "person_prefer_c             5\n",
              "person_prefer_e            12\n",
              "contents_attribute_i        3\n",
              "contents_attribute_a        3\n",
              "contents_attribute_j_1      9\n",
              "contents_attribute_j        2\n",
              "contents_attribute_c        4\n",
              "contents_attribute_k        2\n",
              "contents_attribute_m        5\n",
              "contents_attribute_e       12\n",
              "person_prefer_d_1_n       442\n",
              "person_prefer_d_1_s       137\n",
              "person_prefer_d_1_m        36\n",
              "person_prefer_d_1_l        11\n",
              "person_prefer_d_2_n       430\n",
              "person_prefer_d_2_s       136\n",
              "person_prefer_d_2_m        36\n",
              "person_prefer_d_2_l        11\n",
              "person_prefer_d_3_n       418\n",
              "person_prefer_d_3_s       136\n",
              "person_prefer_d_3_m        36\n",
              "person_prefer_d_3_l        11\n",
              "contents_attribute_d_n    431\n",
              "contents_attribute_d_s    137\n",
              "contents_attribute_d_m     36\n",
              "contents_attribute_d_l     11\n",
              "person_prefer_h_1_m       246\n",
              "person_prefer_h_2_m       246\n",
              "person_prefer_h_3_m       243\n",
              "contents_attribute_h_m    228\n",
              "person_prefer_h_1_l        19\n",
              "person_prefer_h_2_l        19\n",
              "person_prefer_h_3_l        19\n",
              "contents_attribute_h_l     17\n",
              "contents_attribute_l_n    732\n",
              "contents_attribute_l_s    304\n",
              "contents_attribute_l_m     79\n",
              "contents_attribute_l_l     21\n",
              "dtype: int64"
            ]
          },
          "metadata": {},
          "execution_count": 74
        }
      ]
    },
    {
      "cell_type": "code",
      "source": [
        "is_holdout = False\n",
        "n_splits = 5\n",
        "iterations = 3000\n",
        "patience = 50\n",
        "\n",
        "cv = KFold(n_splits=n_splits, shuffle=True, random_state=42)"
      ],
      "metadata": {
        "id": "7jQ3tiS440fF"
      },
      "execution_count": null,
      "outputs": []
    },
    {
      "cell_type": "code",
      "source": [
        "x_train.iloc[0:4]"
      ],
      "metadata": {
        "colab": {
          "base_uri": "https://localhost:8080/",
          "height": 238
        },
        "id": "JcJdgXr_X0SO",
        "outputId": "cc9a6d44-99ab-45b1-e107-4b79dac6ec68"
      },
      "execution_count": null,
      "outputs": [
        {
          "output_type": "execute_result",
          "data": {
            "text/html": [
              "\n",
              "  <div id=\"df-60689504-d8cb-422f-b141-0d75810b9464\">\n",
              "    <div class=\"colab-df-container\">\n",
              "      <div>\n",
              "<style scoped>\n",
              "    .dataframe tbody tr th:only-of-type {\n",
              "        vertical-align: middle;\n",
              "    }\n",
              "\n",
              "    .dataframe tbody tr th {\n",
              "        vertical-align: top;\n",
              "    }\n",
              "\n",
              "    .dataframe thead th {\n",
              "        text-align: right;\n",
              "    }\n",
              "</style>\n",
              "<table border=\"1\" class=\"dataframe\">\n",
              "  <thead>\n",
              "    <tr style=\"text-align: right;\">\n",
              "      <th></th>\n",
              "      <th>d_l_match_yn</th>\n",
              "      <th>d_m_match_yn</th>\n",
              "      <th>d_s_match_yn</th>\n",
              "      <th>h_l_match_yn</th>\n",
              "      <th>h_m_match_yn</th>\n",
              "      <th>h_s_match_yn</th>\n",
              "      <th>person_attribute_a</th>\n",
              "      <th>person_attribute_a_1</th>\n",
              "      <th>person_attribute_b</th>\n",
              "      <th>person_prefer_c</th>\n",
              "      <th>person_prefer_e</th>\n",
              "      <th>contents_attribute_i</th>\n",
              "      <th>contents_attribute_a</th>\n",
              "      <th>contents_attribute_j_1</th>\n",
              "      <th>contents_attribute_j</th>\n",
              "      <th>contents_attribute_c</th>\n",
              "      <th>contents_attribute_k</th>\n",
              "      <th>contents_attribute_m</th>\n",
              "      <th>contents_attribute_e</th>\n",
              "      <th>person_prefer_d_1_n</th>\n",
              "      <th>person_prefer_d_1_s</th>\n",
              "      <th>person_prefer_d_1_m</th>\n",
              "      <th>person_prefer_d_1_l</th>\n",
              "      <th>person_prefer_d_2_n</th>\n",
              "      <th>person_prefer_d_2_s</th>\n",
              "      <th>person_prefer_d_2_m</th>\n",
              "      <th>person_prefer_d_2_l</th>\n",
              "      <th>person_prefer_d_3_n</th>\n",
              "      <th>person_prefer_d_3_s</th>\n",
              "      <th>person_prefer_d_3_m</th>\n",
              "      <th>person_prefer_d_3_l</th>\n",
              "      <th>contents_attribute_d_n</th>\n",
              "      <th>contents_attribute_d_s</th>\n",
              "      <th>contents_attribute_d_m</th>\n",
              "      <th>contents_attribute_d_l</th>\n",
              "      <th>person_prefer_h_1_m</th>\n",
              "      <th>person_prefer_h_2_m</th>\n",
              "      <th>person_prefer_h_3_m</th>\n",
              "      <th>contents_attribute_h_m</th>\n",
              "      <th>person_prefer_h_1_l</th>\n",
              "      <th>person_prefer_h_2_l</th>\n",
              "      <th>person_prefer_h_3_l</th>\n",
              "      <th>contents_attribute_h_l</th>\n",
              "      <th>contents_attribute_l_n</th>\n",
              "      <th>contents_attribute_l_s</th>\n",
              "      <th>contents_attribute_l_m</th>\n",
              "      <th>contents_attribute_l_l</th>\n",
              "    </tr>\n",
              "  </thead>\n",
              "  <tbody>\n",
              "    <tr>\n",
              "      <th>209550</th>\n",
              "      <td>0</td>\n",
              "      <td>0</td>\n",
              "      <td>0</td>\n",
              "      <td>0</td>\n",
              "      <td>0</td>\n",
              "      <td>0</td>\n",
              "      <td>2</td>\n",
              "      <td>0</td>\n",
              "      <td>4</td>\n",
              "      <td>5</td>\n",
              "      <td>0</td>\n",
              "      <td>1</td>\n",
              "      <td>3</td>\n",
              "      <td>3</td>\n",
              "      <td>1</td>\n",
              "      <td>1</td>\n",
              "      <td>2</td>\n",
              "      <td>4</td>\n",
              "      <td>3</td>\n",
              "      <td>709</td>\n",
              "      <td>708</td>\n",
              "      <td>708</td>\n",
              "      <td>618</td>\n",
              "      <td>709</td>\n",
              "      <td>708</td>\n",
              "      <td>708</td>\n",
              "      <td>618</td>\n",
              "      <td>709</td>\n",
              "      <td>708</td>\n",
              "      <td>708</td>\n",
              "      <td>618</td>\n",
              "      <td>514</td>\n",
              "      <td>509</td>\n",
              "      <td>482</td>\n",
              "      <td>482</td>\n",
              "      <td>365</td>\n",
              "      <td>528</td>\n",
              "      <td>366</td>\n",
              "      <td>528</td>\n",
              "      <td>48</td>\n",
              "      <td>250</td>\n",
              "      <td>48</td>\n",
              "      <td>250</td>\n",
              "      <td>1834</td>\n",
              "      <td>1833</td>\n",
              "      <td>1832</td>\n",
              "      <td>2020</td>\n",
              "    </tr>\n",
              "    <tr>\n",
              "      <th>26567</th>\n",
              "      <td>0</td>\n",
              "      <td>0</td>\n",
              "      <td>0</td>\n",
              "      <td>1</td>\n",
              "      <td>1</td>\n",
              "      <td>1</td>\n",
              "      <td>2</td>\n",
              "      <td>0</td>\n",
              "      <td>3</td>\n",
              "      <td>5</td>\n",
              "      <td>4</td>\n",
              "      <td>2</td>\n",
              "      <td>3</td>\n",
              "      <td>5</td>\n",
              "      <td>1</td>\n",
              "      <td>1</td>\n",
              "      <td>1</td>\n",
              "      <td>1</td>\n",
              "      <td>4</td>\n",
              "      <td>452</td>\n",
              "      <td>451</td>\n",
              "      <td>450</td>\n",
              "      <td>377</td>\n",
              "      <td>1227</td>\n",
              "      <td>1227</td>\n",
              "      <td>1227</td>\n",
              "      <td>926</td>\n",
              "      <td>175</td>\n",
              "      <td>152</td>\n",
              "      <td>56</td>\n",
              "      <td>1</td>\n",
              "      <td>1056</td>\n",
              "      <td>1054</td>\n",
              "      <td>1053</td>\n",
              "      <td>926</td>\n",
              "      <td>568</td>\n",
              "      <td>566</td>\n",
              "      <td>569</td>\n",
              "      <td>568</td>\n",
              "      <td>308</td>\n",
              "      <td>308</td>\n",
              "      <td>312</td>\n",
              "      <td>308</td>\n",
              "      <td>981</td>\n",
              "      <td>980</td>\n",
              "      <td>954</td>\n",
              "      <td>2009</td>\n",
              "    </tr>\n",
              "    <tr>\n",
              "      <th>89164</th>\n",
              "      <td>1</td>\n",
              "      <td>1</td>\n",
              "      <td>1</td>\n",
              "      <td>0</td>\n",
              "      <td>0</td>\n",
              "      <td>0</td>\n",
              "      <td>1</td>\n",
              "      <td>0</td>\n",
              "      <td>4</td>\n",
              "      <td>1</td>\n",
              "      <td>5</td>\n",
              "      <td>3</td>\n",
              "      <td>1</td>\n",
              "      <td>5</td>\n",
              "      <td>1</td>\n",
              "      <td>1</td>\n",
              "      <td>2</td>\n",
              "      <td>1</td>\n",
              "      <td>6</td>\n",
              "      <td>782</td>\n",
              "      <td>782</td>\n",
              "      <td>745</td>\n",
              "      <td>744</td>\n",
              "      <td>819</td>\n",
              "      <td>815</td>\n",
              "      <td>745</td>\n",
              "      <td>744</td>\n",
              "      <td>38</td>\n",
              "      <td>37</td>\n",
              "      <td>2</td>\n",
              "      <td>1</td>\n",
              "      <td>782</td>\n",
              "      <td>782</td>\n",
              "      <td>745</td>\n",
              "      <td>744</td>\n",
              "      <td>316</td>\n",
              "      <td>398</td>\n",
              "      <td>432</td>\n",
              "      <td>543</td>\n",
              "      <td>3</td>\n",
              "      <td>94</td>\n",
              "      <td>149</td>\n",
              "      <td>277</td>\n",
              "      <td>1082</td>\n",
              "      <td>1060</td>\n",
              "      <td>1021</td>\n",
              "      <td>2010</td>\n",
              "    </tr>\n",
              "    <tr>\n",
              "      <th>428760</th>\n",
              "      <td>0</td>\n",
              "      <td>0</td>\n",
              "      <td>0</td>\n",
              "      <td>1</td>\n",
              "      <td>1</td>\n",
              "      <td>1</td>\n",
              "      <td>2</td>\n",
              "      <td>0</td>\n",
              "      <td>4</td>\n",
              "      <td>5</td>\n",
              "      <td>3</td>\n",
              "      <td>3</td>\n",
              "      <td>3</td>\n",
              "      <td>5</td>\n",
              "      <td>1</td>\n",
              "      <td>1</td>\n",
              "      <td>2</td>\n",
              "      <td>4</td>\n",
              "      <td>3</td>\n",
              "      <td>446</td>\n",
              "      <td>446</td>\n",
              "      <td>439</td>\n",
              "      <td>377</td>\n",
              "      <td>1195</td>\n",
              "      <td>1194</td>\n",
              "      <td>1193</td>\n",
              "      <td>926</td>\n",
              "      <td>110</td>\n",
              "      <td>109</td>\n",
              "      <td>56</td>\n",
              "      <td>1</td>\n",
              "      <td>114</td>\n",
              "      <td>109</td>\n",
              "      <td>56</td>\n",
              "      <td>1</td>\n",
              "      <td>381</td>\n",
              "      <td>380</td>\n",
              "      <td>382</td>\n",
              "      <td>381</td>\n",
              "      <td>71</td>\n",
              "      <td>71</td>\n",
              "      <td>71</td>\n",
              "      <td>71</td>\n",
              "      <td>1331</td>\n",
              "      <td>1331</td>\n",
              "      <td>1323</td>\n",
              "      <td>2011</td>\n",
              "    </tr>\n",
              "  </tbody>\n",
              "</table>\n",
              "</div>\n",
              "      <button class=\"colab-df-convert\" onclick=\"convertToInteractive('df-60689504-d8cb-422f-b141-0d75810b9464')\"\n",
              "              title=\"Convert this dataframe to an interactive table.\"\n",
              "              style=\"display:none;\">\n",
              "        \n",
              "  <svg xmlns=\"http://www.w3.org/2000/svg\" height=\"24px\"viewBox=\"0 0 24 24\"\n",
              "       width=\"24px\">\n",
              "    <path d=\"M0 0h24v24H0V0z\" fill=\"none\"/>\n",
              "    <path d=\"M18.56 5.44l.94 2.06.94-2.06 2.06-.94-2.06-.94-.94-2.06-.94 2.06-2.06.94zm-11 1L8.5 8.5l.94-2.06 2.06-.94-2.06-.94L8.5 2.5l-.94 2.06-2.06.94zm10 10l.94 2.06.94-2.06 2.06-.94-2.06-.94-.94-2.06-.94 2.06-2.06.94z\"/><path d=\"M17.41 7.96l-1.37-1.37c-.4-.4-.92-.59-1.43-.59-.52 0-1.04.2-1.43.59L10.3 9.45l-7.72 7.72c-.78.78-.78 2.05 0 2.83L4 21.41c.39.39.9.59 1.41.59.51 0 1.02-.2 1.41-.59l7.78-7.78 2.81-2.81c.8-.78.8-2.07 0-2.86zM5.41 20L4 18.59l7.72-7.72 1.47 1.35L5.41 20z\"/>\n",
              "  </svg>\n",
              "      </button>\n",
              "      \n",
              "  <style>\n",
              "    .colab-df-container {\n",
              "      display:flex;\n",
              "      flex-wrap:wrap;\n",
              "      gap: 12px;\n",
              "    }\n",
              "\n",
              "    .colab-df-convert {\n",
              "      background-color: #E8F0FE;\n",
              "      border: none;\n",
              "      border-radius: 50%;\n",
              "      cursor: pointer;\n",
              "      display: none;\n",
              "      fill: #1967D2;\n",
              "      height: 32px;\n",
              "      padding: 0 0 0 0;\n",
              "      width: 32px;\n",
              "    }\n",
              "\n",
              "    .colab-df-convert:hover {\n",
              "      background-color: #E2EBFA;\n",
              "      box-shadow: 0px 1px 2px rgba(60, 64, 67, 0.3), 0px 1px 3px 1px rgba(60, 64, 67, 0.15);\n",
              "      fill: #174EA6;\n",
              "    }\n",
              "\n",
              "    [theme=dark] .colab-df-convert {\n",
              "      background-color: #3B4455;\n",
              "      fill: #D2E3FC;\n",
              "    }\n",
              "\n",
              "    [theme=dark] .colab-df-convert:hover {\n",
              "      background-color: #434B5C;\n",
              "      box-shadow: 0px 1px 3px 1px rgba(0, 0, 0, 0.15);\n",
              "      filter: drop-shadow(0px 1px 2px rgba(0, 0, 0, 0.3));\n",
              "      fill: #FFFFFF;\n",
              "    }\n",
              "  </style>\n",
              "\n",
              "      <script>\n",
              "        const buttonEl =\n",
              "          document.querySelector('#df-60689504-d8cb-422f-b141-0d75810b9464 button.colab-df-convert');\n",
              "        buttonEl.style.display =\n",
              "          google.colab.kernel.accessAllowed ? 'block' : 'none';\n",
              "\n",
              "        async function convertToInteractive(key) {\n",
              "          const element = document.querySelector('#df-60689504-d8cb-422f-b141-0d75810b9464');\n",
              "          const dataTable =\n",
              "            await google.colab.kernel.invokeFunction('convertToInteractive',\n",
              "                                                     [key], {});\n",
              "          if (!dataTable) return;\n",
              "\n",
              "          const docLinkHtml = 'Like what you see? Visit the ' +\n",
              "            '<a target=\"_blank\" href=https://colab.research.google.com/notebooks/data_table.ipynb>data table notebook</a>'\n",
              "            + ' to learn more about interactive tables.';\n",
              "          element.innerHTML = '';\n",
              "          dataTable['output_type'] = 'display_data';\n",
              "          await google.colab.output.renderOutput(dataTable, element);\n",
              "          const docLink = document.createElement('div');\n",
              "          docLink.innerHTML = docLinkHtml;\n",
              "          element.appendChild(docLink);\n",
              "        }\n",
              "      </script>\n",
              "    </div>\n",
              "  </div>\n",
              "  "
            ],
            "text/plain": [
              "        d_l_match_yn  ...  contents_attribute_l_l\n",
              "209550             0  ...                    2020\n",
              "26567              0  ...                    2009\n",
              "89164              1  ...                    2010\n",
              "428760             0  ...                    2011\n",
              "\n",
              "[4 rows x 47 columns]"
            ]
          },
          "metadata": {},
          "execution_count": 76
        }
      ]
    },
    {
      "cell_type": "code",
      "source": [
        "scores = []\n",
        "models = []\n",
        "\n",
        "\n",
        "for tri, vai in cv.split(x_train):\n",
        "  print(x_train)\n",
        "  print(tri)\n",
        "  print(vai)\n",
        "  print(len(x_train))\n",
        "  print(len(tri))\n",
        "  print(len(vai))\n",
        "  break\n",
        "\n",
        "  print(\"=\"*50)\n",
        "  preds = []\n",
        "\n",
        "  model = CatBoostClassifier(iterations=iterations,random_state=42,task_type=\"GPU\",eval_metric=\"F1\",cat_features=cat_features,one_hot_max_size=4)\n",
        "  model.fit(x_train.iloc[tri], y_train[tri], \n",
        "          eval_set=[(x_train.iloc[vai], y_train[vai])], \n",
        "          early_stopping_rounds=patience ,\n",
        "          verbose = 100\n",
        "      )\n",
        "  \n",
        "  models.append(model)\n",
        "  scores.append(model.get_best_score()[\"validation\"][\"F1\"])\n",
        "  if is_holdout:\n",
        "      break    "
      ],
      "metadata": {
        "colab": {
          "base_uri": "https://localhost:8080/"
        },
        "id": "gB-7gmyY41SD",
        "outputId": "5a09be98-3fb9-456d-884d-07ea01955cd2"
      },
      "execution_count": null,
      "outputs": [
        {
          "output_type": "stream",
          "name": "stdout",
          "text": [
            "        d_l_match_yn  ...  contents_attribute_l_l\n",
            "209550             0  ...                    2020\n",
            "26567              0  ...                    2009\n",
            "89164              1  ...                    2010\n",
            "428760             0  ...                    2011\n",
            "21865              0  ...                    2009\n",
            "...              ...  ...                     ...\n",
            "251110             1  ...                    2017\n",
            "184415             1  ...                    2020\n",
            "390841             1  ...                    2006\n",
            "439197             1  ...                    2009\n",
            "167794             0  ...                    2022\n",
            "\n",
            "[401560 rows x 47 columns]\n",
            "[     0      1      3 ... 401555 401556 401558]\n",
            "[     2      7     11 ... 401534 401557 401559]\n",
            "401560\n",
            "321248\n",
            "80312\n"
          ]
        }
      ]
    },
    {
      "cell_type": "code",
      "source": [
        "import numpy as np\n",
        "from sklearn.model_selection import KFold\n",
        "\n",
        "X = [\"a\", \"b\", \"c\", \"d\"]\n",
        "kf = KFold(n_splits=2)\n",
        "for train, test in kf.split(X):\n",
        "    print(train)\n",
        "    print(test)\n",
        "    \n",
        "    print(\"%s %s\" % (train, test))\n",
        "    print('==========================')"
      ],
      "metadata": {
        "colab": {
          "base_uri": "https://localhost:8080/"
        },
        "id": "nUFj_7e-UuTZ",
        "outputId": "e999f185-e4d7-47dd-bfcc-da123c092c9b"
      },
      "execution_count": null,
      "outputs": [
        {
          "output_type": "stream",
          "name": "stdout",
          "text": [
            "[2 3]\n",
            "[0 1]\n",
            "[2 3] [0 1]\n",
            "==========================\n",
            "[0 1]\n",
            "[2 3]\n",
            "[0 1] [2 3]\n",
            "==========================\n"
          ]
        }
      ]
    },
    {
      "cell_type": "code",
      "source": [
        "print(scores)\n",
        "print(np.mean(scores))"
      ],
      "metadata": {
        "colab": {
          "base_uri": "https://localhost:8080/"
        },
        "id": "e9aHmiYx42r9",
        "outputId": "41eda596-d0f1-4a1b-b84e-990051cea27d"
      },
      "execution_count": null,
      "outputs": [
        {
          "output_type": "stream",
          "name": "stdout",
          "text": [
            "[]\n",
            "nan\n"
          ]
        },
        {
          "output_type": "stream",
          "name": "stderr",
          "text": [
            "/usr/local/lib/python3.7/dist-packages/numpy/core/fromnumeric.py:3373: RuntimeWarning: Mean of empty slice.\n",
            "  out=out, **kwargs)\n",
            "/usr/local/lib/python3.7/dist-packages/numpy/core/_methods.py:170: RuntimeWarning: invalid value encountered in double_scalars\n",
            "  ret = ret.dtype.type(ret / rcount)\n"
          ]
        }
      ]
    },
    {
      "cell_type": "code",
      "source": [
        "threshold = 0.4"
      ],
      "metadata": {
        "id": "F-g7ZwHm432Y"
      },
      "execution_count": null,
      "outputs": []
    },
    {
      "cell_type": "code",
      "source": [
        "pred_list = []\n",
        "scores = []\n",
        "for i,(tri, vai) in enumerate( cv.split(x_train) ):\n",
        "    pred = models[i].predict_proba(x_train.iloc[vai])[:, 1]\n",
        "    pred = np.where(pred >= threshold , 1, 0)\n",
        "    score = f1_score(y_train[vai],pred)\n",
        "    scores.append(score)\n",
        "    pred = models[i].predict_proba(x_test)[:, 1]\n",
        "    pred_list.append(pred)\n",
        "print(scores)\n",
        "print(np.mean(scores))"
      ],
      "metadata": {
        "colab": {
          "base_uri": "https://localhost:8080/",
          "height": 245
        },
        "id": "ODU7Xkdc44vO",
        "outputId": "055e1ed5-34e5-46c6-e56d-8ba5f49b6edd"
      },
      "execution_count": null,
      "outputs": [
        {
          "output_type": "error",
          "ename": "IndexError",
          "evalue": "ignored",
          "traceback": [
            "\u001b[0;31m---------------------------------------------------------------------------\u001b[0m",
            "\u001b[0;31mIndexError\u001b[0m                                Traceback (most recent call last)",
            "\u001b[0;32m<ipython-input-81-3f470098d381>\u001b[0m in \u001b[0;36m<module>\u001b[0;34m()\u001b[0m\n\u001b[1;32m      2\u001b[0m \u001b[0mscores\u001b[0m \u001b[0;34m=\u001b[0m \u001b[0;34m[\u001b[0m\u001b[0;34m]\u001b[0m\u001b[0;34m\u001b[0m\u001b[0;34m\u001b[0m\u001b[0m\n\u001b[1;32m      3\u001b[0m \u001b[0;32mfor\u001b[0m \u001b[0mi\u001b[0m\u001b[0;34m,\u001b[0m\u001b[0;34m(\u001b[0m\u001b[0mtri\u001b[0m\u001b[0;34m,\u001b[0m \u001b[0mvai\u001b[0m\u001b[0;34m)\u001b[0m \u001b[0;32min\u001b[0m \u001b[0menumerate\u001b[0m\u001b[0;34m(\u001b[0m \u001b[0mcv\u001b[0m\u001b[0;34m.\u001b[0m\u001b[0msplit\u001b[0m\u001b[0;34m(\u001b[0m\u001b[0mx_train\u001b[0m\u001b[0;34m)\u001b[0m \u001b[0;34m)\u001b[0m\u001b[0;34m:\u001b[0m\u001b[0;34m\u001b[0m\u001b[0;34m\u001b[0m\u001b[0m\n\u001b[0;32m----> 4\u001b[0;31m     \u001b[0mpred\u001b[0m \u001b[0;34m=\u001b[0m \u001b[0mmodels\u001b[0m\u001b[0;34m[\u001b[0m\u001b[0mi\u001b[0m\u001b[0;34m]\u001b[0m\u001b[0;34m.\u001b[0m\u001b[0mpredict_proba\u001b[0m\u001b[0;34m(\u001b[0m\u001b[0mx_train\u001b[0m\u001b[0;34m.\u001b[0m\u001b[0miloc\u001b[0m\u001b[0;34m[\u001b[0m\u001b[0mvai\u001b[0m\u001b[0;34m]\u001b[0m\u001b[0;34m)\u001b[0m\u001b[0;34m[\u001b[0m\u001b[0;34m:\u001b[0m\u001b[0;34m,\u001b[0m \u001b[0;36m1\u001b[0m\u001b[0;34m]\u001b[0m\u001b[0;34m\u001b[0m\u001b[0;34m\u001b[0m\u001b[0m\n\u001b[0m\u001b[1;32m      5\u001b[0m     \u001b[0mpred\u001b[0m \u001b[0;34m=\u001b[0m \u001b[0mnp\u001b[0m\u001b[0;34m.\u001b[0m\u001b[0mwhere\u001b[0m\u001b[0;34m(\u001b[0m\u001b[0mpred\u001b[0m \u001b[0;34m>=\u001b[0m \u001b[0mthreshold\u001b[0m \u001b[0;34m,\u001b[0m \u001b[0;36m1\u001b[0m\u001b[0;34m,\u001b[0m \u001b[0;36m0\u001b[0m\u001b[0;34m)\u001b[0m\u001b[0;34m\u001b[0m\u001b[0;34m\u001b[0m\u001b[0m\n\u001b[1;32m      6\u001b[0m     \u001b[0mscore\u001b[0m \u001b[0;34m=\u001b[0m \u001b[0mf1_score\u001b[0m\u001b[0;34m(\u001b[0m\u001b[0my_train\u001b[0m\u001b[0;34m[\u001b[0m\u001b[0mvai\u001b[0m\u001b[0;34m]\u001b[0m\u001b[0;34m,\u001b[0m\u001b[0mpred\u001b[0m\u001b[0;34m)\u001b[0m\u001b[0;34m\u001b[0m\u001b[0;34m\u001b[0m\u001b[0m\n",
            "\u001b[0;31mIndexError\u001b[0m: list index out of range"
          ]
        }
      ]
    },
    {
      "cell_type": "code",
      "source": [
        "pred = np.mean( pred_list , axis = 0 )\n",
        "pred = np.where(pred >= threshold , 1, 0)"
      ],
      "metadata": {
        "id": "7w1BYG4d45wO"
      },
      "execution_count": null,
      "outputs": []
    },
    {
      "cell_type": "code",
      "source": [
        "sample_submission = pd.read_csv('/content/sample_submission.csv')\n",
        "sample_submission['target'] = pred\n",
        "sample_submission"
      ],
      "metadata": {
        "id": "VCJIyjtN46zH"
      },
      "execution_count": null,
      "outputs": []
    },
    {
      "cell_type": "code",
      "source": [
        "sample_submission.to_csv(\"prediction.csv\", index=False)"
      ],
      "metadata": {
        "id": "ttwtJHdt49CS"
      },
      "execution_count": null,
      "outputs": []
    }
  ]
}